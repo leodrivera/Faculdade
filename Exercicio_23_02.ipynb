{
  "nbformat": 4,
  "nbformat_minor": 0,
  "metadata": {
    "colab": {
      "name": "Exercicio_23.02.ipynb",
      "provenance": [],
      "mount_file_id": "1EhbZCsoGiRxo7Zbb4wg8i7nDTK8wZxQT",
      "authorship_tag": "ABX9TyMmQOwFQzxGwlY4ZSfxVL9c",
      "include_colab_link": true
    },
    "kernelspec": {
      "name": "python3",
      "display_name": "Python 3"
    }
  },
  "cells": [
    {
      "cell_type": "markdown",
      "metadata": {
        "id": "view-in-github",
        "colab_type": "text"
      },
      "source": [
        "<a href=\"https://colab.research.google.com/github/leodrivera/Faculdade/blob/master/Exercicio_23_02.ipynb\" target=\"_parent\"><img src=\"https://colab.research.google.com/assets/colab-badge.svg\" alt=\"Open In Colab\"/></a>"
      ]
    },
    {
      "cell_type": "markdown",
      "metadata": {
        "id": "Oy2Y1BPvBHuj"
      },
      "source": [
        "Modelar um sistema de gerenciamento de banco de dados de alunos para Universidades\r\n",
        "Com as seguintes considerações: \r\n",
        "  - Você deverá cadastrar as seguintes informações de cada profissional da Universidade (Alunos e Professores):\r\n",
        "    - Primeiro nome; Sobrenome; Data de nascimento ; email do aluno\r\n",
        "  - Cada aluno poderá se matricular em um determinado curso dado por um determinado professor\r\n",
        "  - Cada aluno poderá realizar o mesmo curso até 3 vezes, sendo aprovado quando obter média >= 70.0\r\n",
        "  \r\n",
        "Definir as tabelas (entities) com seu respectivos atributos - definir os \"constraints\" e as chaves primárias e/ou estrangeiras"
      ]
    },
    {
      "cell_type": "code",
      "metadata": {
        "id": "DLrJyJCVBwfo",
        "colab": {
          "base_uri": "https://localhost:8080/"
        },
        "outputId": "3f828828-a1e5-4a86-d3e9-87f5367c6ad7"
      },
      "source": [
        "import sqlite3\r\n",
        "\r\n",
        "arq = 'universidade.db'\r\n",
        "address =  '/content/drive/MyDrive/Colab Notebooks/Arquivos/' + arq\r\n",
        "\r\n",
        "db = sqlite3.connect(address) #Cria o bd se não existir\r\n",
        "#db.row_factory = sqlite3.Row\r\n",
        "cursor = db.cursor() #Cria um cursor para fazer as operações com o banco de dados\r\n",
        "cursor.execute(\"PRAGMA foreign_keys\").fetchall()\r\n",
        "\r\n",
        "#Person Table\r\n",
        "person_db = \"\"\"CREATE TABLE IF NOT EXISTS person (\r\n",
        "first_name TEXT,\r\n",
        "last_name TEXT,\r\n",
        "e-mail TEXT,\r\n",
        "birth DATE)\r\n",
        "\"\"\"\r\n",
        "\r\n",
        "#Teacher Table\r\n",
        "person_db = \"\"\"CREATE TABLE IF NOT EXISTS person (\r\n",
        "first_name TEXT,\r\n",
        "last_name TEXT,\r\n",
        "e-mail TEXT,\r\n",
        "birth DATE)\r\n",
        "\"\"\"\r\n",
        "#Teacher Table\r\n",
        "cursor.execute(\"person_db\") #Cria a tabela professores\r\n",
        "\r\n",
        "cursor.execute(\"PRAGMA table_info(professores)\")\r\n",
        "print(cursor.fetchall())\r\n",
        "db.close() #Fecha a conexão com o bd\t\r\n",
        "\r\n"
      ],
      "execution_count": 17,
      "outputs": [
        {
          "output_type": "stream",
          "text": [
            "[(0, 'nome', 'VARCHAR2(255)', 0, None, 0), (1, 'sobrenome', 'VARCHAR2(255)', 0, None, 0), (2, 'nascimento', 'VARCHAR2(10)', 0, None, 0), (3, 'email', 'VARCHAR2(255)', 0, None, 0)]\n"
          ],
          "name": "stdout"
        }
      ]
    }
  ]
}